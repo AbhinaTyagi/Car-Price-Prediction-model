{
 "cells": [
  {
   "cell_type": "code",
   "execution_count": 1,
   "id": "5d044626-5029-48ca-a18a-9067e796dcce",
   "metadata": {},
   "outputs": [],
   "source": [
    "import pickle \n",
    "import numpy as np"
   ]
  },
  {
   "cell_type": "code",
   "execution_count": 3,
   "id": "7e3a7e59-ff05-4792-b235-f84666e7930f",
   "metadata": {},
   "outputs": [],
   "source": [
    "car=pickle.load(open('Car Price Prediction.pkl','rb'))"
   ]
  },
  {
   "cell_type": "code",
   "execution_count": 8,
   "id": "783a8114-a4f5-44db-9693-a86c7cc34b11",
   "metadata": {},
   "outputs": [],
   "source": [
    "Value=np.array(['Mercedes','GLA',2012,3.8,'Diesel','Manual',282875,2,3],dtype=object).reshape(1,9)"
   ]
  },
  {
   "cell_type": "code",
   "execution_count": 9,
   "id": "10a7d628-e5ea-41a0-9c13-12465aaad191",
   "metadata": {},
   "outputs": [
    {
     "name": "stderr",
     "output_type": "stream",
     "text": [
      "C:\\Users\\Gungun Tyagi\\anaconda3\\Lib\\site-packages\\sklearn\\base.py:439: UserWarning: X does not have valid feature names, but OneHotEncoder was fitted with feature names\n",
      "  warnings.warn(\n",
      "C:\\Users\\Gungun Tyagi\\anaconda3\\Lib\\site-packages\\sklearn\\base.py:439: UserWarning: X does not have valid feature names, but StandardScaler was fitted with feature names\n",
      "  warnings.warn(\n"
     ]
    },
    {
     "data": {
      "text/plain": [
       "array([5872.44934227])"
      ]
     },
     "execution_count": 9,
     "metadata": {},
     "output_type": "execute_result"
    }
   ],
   "source": [
    "car.predict(Value)"
   ]
  },
  {
   "cell_type": "code",
   "execution_count": null,
   "id": "e3ffeb49-6618-4937-b255-b06a0d4fc77b",
   "metadata": {},
   "outputs": [],
   "source": []
  }
 ],
 "metadata": {
  "kernelspec": {
   "display_name": "Python 3 (ipykernel)",
   "language": "python",
   "name": "python3"
  },
  "language_info": {
   "codemirror_mode": {
    "name": "ipython",
    "version": 3
   },
   "file_extension": ".py",
   "mimetype": "text/x-python",
   "name": "python",
   "nbconvert_exporter": "python",
   "pygments_lexer": "ipython3",
   "version": "3.11.7"
  }
 },
 "nbformat": 4,
 "nbformat_minor": 5
}
